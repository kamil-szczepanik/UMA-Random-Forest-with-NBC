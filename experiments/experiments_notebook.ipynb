{
 "cells": [
  {
   "attachments": {},
   "cell_type": "markdown",
   "metadata": {},
   "source": [
    "<small><small><i>\n",
    "All the IPython Notebooks in this **Python Decision Tree and Random Forest** series by Dr. Milaan Parmar are available @ **[GitHub](https://github.com/milaan9/Python_Decision_Tree_and_Random_Forest)**\n",
    "</i></small></small>"
   ]
  },
  {
   "cell_type": "code",
   "execution_count": 46,
   "metadata": {
    "ExecuteTime": {
     "end_time": "2021-08-23T09:33:29.231543Z",
     "start_time": "2021-08-23T09:33:29.201274Z"
    }
   },
   "outputs": [],
   "source": [
    "import sys\n",
    "sys.path.append('..\\\\models')\n",
    "\n",
    "import pandas as pd\n",
    "from sklearn.model_selection import train_test_split # Import train_test_split function\n",
    "from matplotlib import pyplot as plt\n",
    "from sklearn import metrics #Import scikit-learn metrics module for accuracy calculation\n",
    "import numpy as np\n",
    "\n",
    "from ID3 import ID3\n",
    "from NBC_Categorical import NBC_Categorical\n",
    "from datasets import get_airline_dataset, get_exams_dataset, get_ecommerce_dataset"
   ]
  },
  {
   "attachments": {},
   "cell_type": "markdown",
   "metadata": {},
   "source": [
    "## Exams"
   ]
  },
  {
   "cell_type": "code",
   "execution_count": 47,
   "metadata": {},
   "outputs": [
    {
     "name": "stdout",
     "output_type": "stream",
     "text": [
      "\n",
      "Naive Bayes Classifier:\n",
      "Accuracy: 0.2633333333333333\n",
      "\n",
      "ID3:\n",
      "Accuracy: 0.25\n"
     ]
    },
    {
     "data": {
      "text/plain": [
       "0.25"
      ]
     },
     "execution_count": 47,
     "metadata": {},
     "output_type": "execute_result"
    }
   ],
   "source": [
    "X, y = get_exams_dataset()\n",
    "X_train, X_test, y_train, y_test = train_test_split(X, y, test_size=0.3, random_state=1) \n",
    "\n",
    "print(\"\\nNaive Bayes Classifier:\")\n",
    "nbc_classifier = NBC_Categorical()\n",
    "nbc_classifier.fit(X_train, y_train)\n",
    "nbc_classifier.eval(X_test, y_test)\n",
    "\n",
    "X_train, X_test, y_train, y_test = train_test_split(X, y, test_size=0.3, random_state=1) \n",
    "\n",
    "print(\"\\nID3:\")\n",
    "id3_tree = ID3()\n",
    "id3_tree.fit(X_train, y_train)\n",
    "id3_tree.eval(X_test, y_test)"
   ]
  },
  {
   "attachments": {},
   "cell_type": "markdown",
   "metadata": {},
   "source": [
    "## E-commerce"
   ]
  },
  {
   "cell_type": "code",
   "execution_count": 25,
   "metadata": {},
   "outputs": [
    {
     "name": "stdout",
     "output_type": "stream",
     "text": [
      "\n",
      "Naive Bayes Classifier:\n",
      "Accuracy: 0.6915151515151515\n",
      "\n",
      "ID3:\n",
      "Accuracy: 0.5757575757575758\n"
     ]
    },
    {
     "data": {
      "text/plain": [
       "0.5757575757575758"
      ]
     },
     "execution_count": 25,
     "metadata": {},
     "output_type": "execute_result"
    }
   ],
   "source": [
    "X, y = get_ecommerce_dataset()\n",
    "X_train, X_test, y_train, y_test = train_test_split(X, y, test_size=0.3, random_state=1) \n",
    "\n",
    "print(\"\\nNaive Bayes Classifier:\")\n",
    "nbc_classifier = NBC_Categorical()\n",
    "nbc_classifier.fit(X_train, y_train)\n",
    "nbc_classifier.eval(X_test, y_test)\n",
    "\n",
    "X_train, X_test, y_train, y_test = train_test_split(X, y, test_size=0.3, random_state=1) \n",
    "\n",
    "print(\"\\nID3:\")\n",
    "id3_tree = ID3()\n",
    "id3_tree.fit(X_train, y_train)\n",
    "id3_tree.eval(X_test, y_test)"
   ]
  },
  {
   "attachments": {},
   "cell_type": "markdown",
   "metadata": {},
   "source": [
    "## Airline passenger satisfaction"
   ]
  },
  {
   "cell_type": "code",
   "execution_count": 29,
   "metadata": {},
   "outputs": [
    {
     "name": "stdout",
     "output_type": "stream",
     "text": [
      "\n",
      "Naive Bayes Classifier:\n"
     ]
    },
    {
     "name": "stderr",
     "output_type": "stream",
     "text": [
      "c:\\Users\\Kamil\\Documents\\sem8-mgr\\UMA\\projekt\\uma-randomforest-with-nbc\\experiments\\..\\models\\NBC_Categorical.py:66: RuntimeWarning: invalid value encountered in double_scalars\n",
      "  labels_probabilites[label] = probab/np.sum(list(probabilities.values()))\n"
     ]
    },
    {
     "name": "stdout",
     "output_type": "stream",
     "text": [
      "Accuracy: 0.8908992916538343\n",
      "\n",
      "ID3:\n"
     ]
    },
    {
     "ename": "KeyboardInterrupt",
     "evalue": "",
     "output_type": "error",
     "traceback": [
      "\u001b[1;31m---------------------------------------------------------------------------\u001b[0m",
      "\u001b[1;31mKeyboardInterrupt\u001b[0m                         Traceback (most recent call last)",
      "\u001b[1;32mc:\\Users\\Kamil\\Documents\\sem8-mgr\\UMA\\projekt\\uma-randomforest-with-nbc\\experiments\\experiments_notebook.ipynb Cell 8\u001b[0m in \u001b[0;36m<module>\u001b[1;34m\u001b[0m\n\u001b[0;32m     <a href='vscode-notebook-cell:/c%3A/Users/Kamil/Documents/sem8-mgr/UMA/projekt/uma-randomforest-with-nbc/experiments/experiments_notebook.ipynb#X13sZmlsZQ%3D%3D?line=9'>10</a>\u001b[0m \u001b[39mprint\u001b[39m(\u001b[39m\"\u001b[39m\u001b[39m\\n\u001b[39;00m\u001b[39mID3:\u001b[39m\u001b[39m\"\u001b[39m)\n\u001b[0;32m     <a href='vscode-notebook-cell:/c%3A/Users/Kamil/Documents/sem8-mgr/UMA/projekt/uma-randomforest-with-nbc/experiments/experiments_notebook.ipynb#X13sZmlsZQ%3D%3D?line=10'>11</a>\u001b[0m id3_tree \u001b[39m=\u001b[39m ID3()\n\u001b[1;32m---> <a href='vscode-notebook-cell:/c%3A/Users/Kamil/Documents/sem8-mgr/UMA/projekt/uma-randomforest-with-nbc/experiments/experiments_notebook.ipynb#X13sZmlsZQ%3D%3D?line=11'>12</a>\u001b[0m id3_tree\u001b[39m.\u001b[39;49mfit(X_train, y_train)\n\u001b[0;32m     <a href='vscode-notebook-cell:/c%3A/Users/Kamil/Documents/sem8-mgr/UMA/projekt/uma-randomforest-with-nbc/experiments/experiments_notebook.ipynb#X13sZmlsZQ%3D%3D?line=12'>13</a>\u001b[0m id3_tree\u001b[39m.\u001b[39meval(X_test, y_test)\n",
      "File \u001b[1;32mc:\\Users\\Kamil\\Documents\\sem8-mgr\\UMA\\projekt\\uma-randomforest-with-nbc\\experiments\\..\\models\\ID3.py:112\u001b[0m, in \u001b[0;36mID3.fit\u001b[1;34m(self, X_train, y_train)\u001b[0m\n\u001b[0;32m    110\u001b[0m X_train[labels] \u001b[39m=\u001b[39m y_train\n\u001b[0;32m    111\u001b[0m df \u001b[39m=\u001b[39m X_train\n\u001b[1;32m--> 112\u001b[0m \u001b[39mself\u001b[39;49m\u001b[39m.\u001b[39;49mcreate_tree(df, labels, \u001b[39mself\u001b[39;49m\u001b[39m.\u001b[39;49mtree, \u001b[39mNone\u001b[39;49;00m)\n",
      "File \u001b[1;32mc:\\Users\\Kamil\\Documents\\sem8-mgr\\UMA\\projekt\\uma-randomforest-with-nbc\\experiments\\..\\models\\ID3.py:106\u001b[0m, in \u001b[0;36mID3.create_tree\u001b[1;34m(self, df, labels, root, prev_attribute_val)\u001b[0m\n\u001b[0;32m    104\u001b[0m \u001b[39mif\u001b[39;00m branch \u001b[39m==\u001b[39m \u001b[39mNone\u001b[39;00m:\n\u001b[0;32m    105\u001b[0m     attribute_val_df \u001b[39m=\u001b[39m df[df[attribute_name] \u001b[39m==\u001b[39m node]\n\u001b[1;32m--> 106\u001b[0m     \u001b[39mself\u001b[39;49m\u001b[39m.\u001b[39;49mcreate_tree(attribute_val_df, labels, next_root, node)\n",
      "File \u001b[1;32mc:\\Users\\Kamil\\Documents\\sem8-mgr\\UMA\\projekt\\uma-randomforest-with-nbc\\experiments\\..\\models\\ID3.py:106\u001b[0m, in \u001b[0;36mID3.create_tree\u001b[1;34m(self, df, labels, root, prev_attribute_val)\u001b[0m\n\u001b[0;32m    104\u001b[0m \u001b[39mif\u001b[39;00m branch \u001b[39m==\u001b[39m \u001b[39mNone\u001b[39;00m:\n\u001b[0;32m    105\u001b[0m     attribute_val_df \u001b[39m=\u001b[39m df[df[attribute_name] \u001b[39m==\u001b[39m node]\n\u001b[1;32m--> 106\u001b[0m     \u001b[39mself\u001b[39;49m\u001b[39m.\u001b[39;49mcreate_tree(attribute_val_df, labels, next_root, node)\n",
      "    \u001b[1;31m[... skipping similar frames: ID3.create_tree at line 106 (4 times)]\u001b[0m\n",
      "File \u001b[1;32mc:\\Users\\Kamil\\Documents\\sem8-mgr\\UMA\\projekt\\uma-randomforest-with-nbc\\experiments\\..\\models\\ID3.py:106\u001b[0m, in \u001b[0;36mID3.create_tree\u001b[1;34m(self, df, labels, root, prev_attribute_val)\u001b[0m\n\u001b[0;32m    104\u001b[0m \u001b[39mif\u001b[39;00m branch \u001b[39m==\u001b[39m \u001b[39mNone\u001b[39;00m:\n\u001b[0;32m    105\u001b[0m     attribute_val_df \u001b[39m=\u001b[39m df[df[attribute_name] \u001b[39m==\u001b[39m node]\n\u001b[1;32m--> 106\u001b[0m     \u001b[39mself\u001b[39;49m\u001b[39m.\u001b[39;49mcreate_tree(attribute_val_df, labels, next_root, node)\n",
      "File \u001b[1;32mc:\\Users\\Kamil\\Documents\\sem8-mgr\\UMA\\projekt\\uma-randomforest-with-nbc\\experiments\\..\\models\\ID3.py:82\u001b[0m, in \u001b[0;36mID3.create_tree\u001b[1;34m(self, df, labels, root, prev_attribute_val)\u001b[0m\n\u001b[0;32m     79\u001b[0m \u001b[39mif\u001b[39;00m df\u001b[39m.\u001b[39mshape[\u001b[39m0\u001b[39m] \u001b[39m==\u001b[39m \u001b[39m0\u001b[39m:\n\u001b[0;32m     80\u001b[0m     \u001b[39mreturn\u001b[39;00m\n\u001b[1;32m---> 82\u001b[0m attribute_name, _ \u001b[39m=\u001b[39m ID3\u001b[39m.\u001b[39;49mfind_most_informative_attribute(df, labels)\n\u001b[0;32m     84\u001b[0m \u001b[39mif\u001b[39;00m attribute_name \u001b[39m!=\u001b[39m \u001b[39mNone\u001b[39;00m: \u001b[39m# is not a non-devisable examples\u001b[39;00m\n\u001b[0;32m     85\u001b[0m     attribute_node, df \u001b[39m=\u001b[39m \u001b[39mself\u001b[39m\u001b[39m.\u001b[39mcreate_node(df, attribute_name, labels)\n",
      "File \u001b[1;32mc:\\Users\\Kamil\\Documents\\sem8-mgr\\UMA\\projekt\\uma-randomforest-with-nbc\\experiments\\..\\models\\ID3.py:49\u001b[0m, in \u001b[0;36mID3.find_most_informative_attribute\u001b[1;34m(df, labels)\u001b[0m\n\u001b[0;32m     47\u001b[0m best_info_gain \u001b[39m=\u001b[39m \u001b[39m0\u001b[39m\n\u001b[0;32m     48\u001b[0m \u001b[39mfor\u001b[39;00m attribute \u001b[39min\u001b[39;00m df\u001b[39m.\u001b[39mcolumns\u001b[39m.\u001b[39mdrop([labels]):\n\u001b[1;32m---> 49\u001b[0m     info_gain \u001b[39m=\u001b[39m ID3\u001b[39m.\u001b[39;49minformation_gain(df, attribute, labels)\n\u001b[0;32m     50\u001b[0m     \u001b[39mif\u001b[39;00m best_info_gain \u001b[39m<\u001b[39m info_gain:\n\u001b[0;32m     51\u001b[0m         best_info_gain \u001b[39m=\u001b[39m info_gain\n",
      "File \u001b[1;32mc:\\Users\\Kamil\\Documents\\sem8-mgr\\UMA\\projekt\\uma-randomforest-with-nbc\\experiments\\..\\models\\ID3.py:41\u001b[0m, in \u001b[0;36mID3.information_gain\u001b[1;34m(df, attribute, labels)\u001b[0m\n\u001b[0;32m     39\u001b[0m     attr_val_count \u001b[39m=\u001b[39m df[df[attribute] \u001b[39m==\u001b[39m attr_val]\u001b[39m.\u001b[39mshape[\u001b[39m0\u001b[39m]\n\u001b[0;32m     40\u001b[0m     prop_attr_val \u001b[39m=\u001b[39m attr_val_count\u001b[39m/\u001b[39mtotal_rows\n\u001b[1;32m---> 41\u001b[0m     info_gain \u001b[39m+\u001b[39m\u001b[39m=\u001b[39m prop_attr_val \u001b[39m*\u001b[39m ID3\u001b[39m.\u001b[39;49mattribute_entropy(df\u001b[39m.\u001b[39;49mloc[df[attribute] \u001b[39m==\u001b[39;49m attr_val], labels)\n\u001b[0;32m     42\u001b[0m \u001b[39mreturn\u001b[39;00m ID3\u001b[39m.\u001b[39mtotal_entropy(df, labels) \u001b[39m-\u001b[39m info_gain\n",
      "File \u001b[1;32mc:\\Users\\Kamil\\Documents\\sem8-mgr\\UMA\\projekt\\uma-randomforest-with-nbc\\experiments\\..\\models\\ID3.py:28\u001b[0m, in \u001b[0;36mID3.attribute_entropy\u001b[1;34m(attribute_data, labels)\u001b[0m\n\u001b[0;32m     26\u001b[0m \u001b[39mfor\u001b[39;00m label \u001b[39min\u001b[39;00m attribute_data[labels]\u001b[39m.\u001b[39munique():\n\u001b[0;32m     27\u001b[0m     class_entropy \u001b[39m=\u001b[39m \u001b[39m0\u001b[39m\n\u001b[1;32m---> 28\u001b[0m     label_count \u001b[39m=\u001b[39m attribute_data[attribute_data[labels] \u001b[39m==\u001b[39;49m label]\u001b[39m.\u001b[39mshape[\u001b[39m0\u001b[39m]\n\u001b[0;32m     29\u001b[0m     \u001b[39mif\u001b[39;00m label_count \u001b[39m!=\u001b[39m \u001b[39m0\u001b[39m:\n\u001b[0;32m     30\u001b[0m         class_entropy \u001b[39m=\u001b[39m \u001b[39m-\u001b[39m (label_count\u001b[39m/\u001b[39mattribute_rows)\u001b[39m*\u001b[39mnp\u001b[39m.\u001b[39mlog2(label_count\u001b[39m/\u001b[39mattribute_rows)            \n",
      "File \u001b[1;32mc:\\Users\\Kamil\\AppData\\Local\\Programs\\Python\\Python39\\lib\\site-packages\\pandas\\core\\frame.py:3449\u001b[0m, in \u001b[0;36mDataFrame.__getitem__\u001b[1;34m(self, key)\u001b[0m\n\u001b[0;32m   3447\u001b[0m \u001b[39m# Do we have a (boolean) 1d indexer?\u001b[39;00m\n\u001b[0;32m   3448\u001b[0m \u001b[39mif\u001b[39;00m com\u001b[39m.\u001b[39mis_bool_indexer(key):\n\u001b[1;32m-> 3449\u001b[0m     \u001b[39mreturn\u001b[39;00m \u001b[39mself\u001b[39;49m\u001b[39m.\u001b[39;49m_getitem_bool_array(key)\n\u001b[0;32m   3451\u001b[0m \u001b[39m# We are left with two options: a single key, and a collection of keys,\u001b[39;00m\n\u001b[0;32m   3452\u001b[0m \u001b[39m# We interpret tuples as collections only for non-MultiIndex\u001b[39;00m\n\u001b[0;32m   3453\u001b[0m is_single_key \u001b[39m=\u001b[39m \u001b[39misinstance\u001b[39m(key, \u001b[39mtuple\u001b[39m) \u001b[39mor\u001b[39;00m \u001b[39mnot\u001b[39;00m is_list_like(key)\n",
      "File \u001b[1;32mc:\\Users\\Kamil\\AppData\\Local\\Programs\\Python\\Python39\\lib\\site-packages\\pandas\\core\\frame.py:3504\u001b[0m, in \u001b[0;36mDataFrame._getitem_bool_array\u001b[1;34m(self, key)\u001b[0m\n\u001b[0;32m   3502\u001b[0m key \u001b[39m=\u001b[39m check_bool_indexer(\u001b[39mself\u001b[39m\u001b[39m.\u001b[39mindex, key)\n\u001b[0;32m   3503\u001b[0m indexer \u001b[39m=\u001b[39m key\u001b[39m.\u001b[39mnonzero()[\u001b[39m0\u001b[39m]\n\u001b[1;32m-> 3504\u001b[0m \u001b[39mreturn\u001b[39;00m \u001b[39mself\u001b[39;49m\u001b[39m.\u001b[39;49m_take_with_is_copy(indexer, axis\u001b[39m=\u001b[39;49m\u001b[39m0\u001b[39;49m)\n",
      "File \u001b[1;32mc:\\Users\\Kamil\\AppData\\Local\\Programs\\Python\\Python39\\lib\\site-packages\\pandas\\core\\generic.py:3628\u001b[0m, in \u001b[0;36mNDFrame._take_with_is_copy\u001b[1;34m(self, indices, axis)\u001b[0m\n\u001b[0;32m   3620\u001b[0m \u001b[39mdef\u001b[39;00m \u001b[39m_take_with_is_copy\u001b[39m(\u001b[39mself\u001b[39m: FrameOrSeries, indices, axis\u001b[39m=\u001b[39m\u001b[39m0\u001b[39m) \u001b[39m-\u001b[39m\u001b[39m>\u001b[39m FrameOrSeries:\n\u001b[0;32m   3621\u001b[0m     \u001b[39m\"\"\"\u001b[39;00m\n\u001b[0;32m   3622\u001b[0m \u001b[39m    Internal version of the `take` method that sets the `_is_copy`\u001b[39;00m\n\u001b[0;32m   3623\u001b[0m \u001b[39m    attribute to keep track of the parent dataframe (using in indexing\u001b[39;00m\n\u001b[1;32m   (...)\u001b[0m\n\u001b[0;32m   3626\u001b[0m \u001b[39m    See the docstring of `take` for full explanation of the parameters.\u001b[39;00m\n\u001b[0;32m   3627\u001b[0m \u001b[39m    \"\"\"\u001b[39;00m\n\u001b[1;32m-> 3628\u001b[0m     result \u001b[39m=\u001b[39m \u001b[39mself\u001b[39;49m\u001b[39m.\u001b[39;49mtake(indices\u001b[39m=\u001b[39;49mindices, axis\u001b[39m=\u001b[39;49maxis)\n\u001b[0;32m   3629\u001b[0m     \u001b[39m# Maybe set copy if we didn't actually change the index.\u001b[39;00m\n\u001b[0;32m   3630\u001b[0m     \u001b[39mif\u001b[39;00m \u001b[39mnot\u001b[39;00m result\u001b[39m.\u001b[39m_get_axis(axis)\u001b[39m.\u001b[39mequals(\u001b[39mself\u001b[39m\u001b[39m.\u001b[39m_get_axis(axis)):\n",
      "File \u001b[1;32mc:\\Users\\Kamil\\AppData\\Local\\Programs\\Python\\Python39\\lib\\site-packages\\pandas\\core\\generic.py:3615\u001b[0m, in \u001b[0;36mNDFrame.take\u001b[1;34m(self, indices, axis, is_copy, **kwargs)\u001b[0m\n\u001b[0;32m   3611\u001b[0m nv\u001b[39m.\u001b[39mvalidate_take((), kwargs)\n\u001b[0;32m   3613\u001b[0m \u001b[39mself\u001b[39m\u001b[39m.\u001b[39m_consolidate_inplace()\n\u001b[1;32m-> 3615\u001b[0m new_data \u001b[39m=\u001b[39m \u001b[39mself\u001b[39;49m\u001b[39m.\u001b[39;49m_mgr\u001b[39m.\u001b[39;49mtake(\n\u001b[0;32m   3616\u001b[0m     indices, axis\u001b[39m=\u001b[39;49m\u001b[39mself\u001b[39;49m\u001b[39m.\u001b[39;49m_get_block_manager_axis(axis), verify\u001b[39m=\u001b[39;49m\u001b[39mTrue\u001b[39;49;00m\n\u001b[0;32m   3617\u001b[0m )\n\u001b[0;32m   3618\u001b[0m \u001b[39mreturn\u001b[39;00m \u001b[39mself\u001b[39m\u001b[39m.\u001b[39m_constructor(new_data)\u001b[39m.\u001b[39m__finalize__(\u001b[39mself\u001b[39m, method\u001b[39m=\u001b[39m\u001b[39m\"\u001b[39m\u001b[39mtake\u001b[39m\u001b[39m\"\u001b[39m)\n",
      "File \u001b[1;32mc:\\Users\\Kamil\\AppData\\Local\\Programs\\Python\\Python39\\lib\\site-packages\\pandas\\core\\internals\\managers.py:865\u001b[0m, in \u001b[0;36mBaseBlockManager.take\u001b[1;34m(self, indexer, axis, verify)\u001b[0m\n\u001b[0;32m    862\u001b[0m indexer \u001b[39m=\u001b[39m maybe_convert_indices(indexer, n, verify\u001b[39m=\u001b[39mverify)\n\u001b[0;32m    864\u001b[0m new_labels \u001b[39m=\u001b[39m \u001b[39mself\u001b[39m\u001b[39m.\u001b[39maxes[axis]\u001b[39m.\u001b[39mtake(indexer)\n\u001b[1;32m--> 865\u001b[0m \u001b[39mreturn\u001b[39;00m \u001b[39mself\u001b[39;49m\u001b[39m.\u001b[39;49mreindex_indexer(\n\u001b[0;32m    866\u001b[0m     new_axis\u001b[39m=\u001b[39;49mnew_labels,\n\u001b[0;32m    867\u001b[0m     indexer\u001b[39m=\u001b[39;49mindexer,\n\u001b[0;32m    868\u001b[0m     axis\u001b[39m=\u001b[39;49maxis,\n\u001b[0;32m    869\u001b[0m     allow_dups\u001b[39m=\u001b[39;49m\u001b[39mTrue\u001b[39;49;00m,\n\u001b[0;32m    870\u001b[0m     consolidate\u001b[39m=\u001b[39;49m\u001b[39mFalse\u001b[39;49;00m,\n\u001b[0;32m    871\u001b[0m )\n",
      "File \u001b[1;32mc:\\Users\\Kamil\\AppData\\Local\\Programs\\Python\\Python39\\lib\\site-packages\\pandas\\core\\internals\\managers.py:680\u001b[0m, in \u001b[0;36mBaseBlockManager.reindex_indexer\u001b[1;34m(self, new_axis, indexer, axis, fill_value, allow_dups, copy, consolidate, only_slice)\u001b[0m\n\u001b[0;32m    676\u001b[0m     new_blocks \u001b[39m=\u001b[39m \u001b[39mself\u001b[39m\u001b[39m.\u001b[39m_slice_take_blocks_ax0(\n\u001b[0;32m    677\u001b[0m         indexer, fill_value\u001b[39m=\u001b[39mfill_value, only_slice\u001b[39m=\u001b[39monly_slice\n\u001b[0;32m    678\u001b[0m     )\n\u001b[0;32m    679\u001b[0m \u001b[39melse\u001b[39;00m:\n\u001b[1;32m--> 680\u001b[0m     new_blocks \u001b[39m=\u001b[39m [\n\u001b[0;32m    681\u001b[0m         blk\u001b[39m.\u001b[39mtake_nd(\n\u001b[0;32m    682\u001b[0m             indexer,\n\u001b[0;32m    683\u001b[0m             axis\u001b[39m=\u001b[39m\u001b[39m1\u001b[39m,\n\u001b[0;32m    684\u001b[0m             fill_value\u001b[39m=\u001b[39m(\n\u001b[0;32m    685\u001b[0m                 fill_value \u001b[39mif\u001b[39;00m fill_value \u001b[39mis\u001b[39;00m \u001b[39mnot\u001b[39;00m \u001b[39mNone\u001b[39;00m \u001b[39melse\u001b[39;00m blk\u001b[39m.\u001b[39mfill_value\n\u001b[0;32m    686\u001b[0m             ),\n\u001b[0;32m    687\u001b[0m         )\n\u001b[0;32m    688\u001b[0m         \u001b[39mfor\u001b[39;00m blk \u001b[39min\u001b[39;00m \u001b[39mself\u001b[39m\u001b[39m.\u001b[39mblocks\n\u001b[0;32m    689\u001b[0m     ]\n\u001b[0;32m    691\u001b[0m new_axes \u001b[39m=\u001b[39m \u001b[39mlist\u001b[39m(\u001b[39mself\u001b[39m\u001b[39m.\u001b[39maxes)\n\u001b[0;32m    692\u001b[0m new_axes[axis] \u001b[39m=\u001b[39m new_axis\n",
      "File \u001b[1;32mc:\\Users\\Kamil\\AppData\\Local\\Programs\\Python\\Python39\\lib\\site-packages\\pandas\\core\\internals\\managers.py:681\u001b[0m, in \u001b[0;36m<listcomp>\u001b[1;34m(.0)\u001b[0m\n\u001b[0;32m    676\u001b[0m     new_blocks \u001b[39m=\u001b[39m \u001b[39mself\u001b[39m\u001b[39m.\u001b[39m_slice_take_blocks_ax0(\n\u001b[0;32m    677\u001b[0m         indexer, fill_value\u001b[39m=\u001b[39mfill_value, only_slice\u001b[39m=\u001b[39monly_slice\n\u001b[0;32m    678\u001b[0m     )\n\u001b[0;32m    679\u001b[0m \u001b[39melse\u001b[39;00m:\n\u001b[0;32m    680\u001b[0m     new_blocks \u001b[39m=\u001b[39m [\n\u001b[1;32m--> 681\u001b[0m         blk\u001b[39m.\u001b[39;49mtake_nd(\n\u001b[0;32m    682\u001b[0m             indexer,\n\u001b[0;32m    683\u001b[0m             axis\u001b[39m=\u001b[39;49m\u001b[39m1\u001b[39;49m,\n\u001b[0;32m    684\u001b[0m             fill_value\u001b[39m=\u001b[39;49m(\n\u001b[0;32m    685\u001b[0m                 fill_value \u001b[39mif\u001b[39;49;00m fill_value \u001b[39mis\u001b[39;49;00m \u001b[39mnot\u001b[39;49;00m \u001b[39mNone\u001b[39;49;00m \u001b[39melse\u001b[39;49;00m blk\u001b[39m.\u001b[39;49mfill_value\n\u001b[0;32m    686\u001b[0m             ),\n\u001b[0;32m    687\u001b[0m         )\n\u001b[0;32m    688\u001b[0m         \u001b[39mfor\u001b[39;00m blk \u001b[39min\u001b[39;00m \u001b[39mself\u001b[39m\u001b[39m.\u001b[39mblocks\n\u001b[0;32m    689\u001b[0m     ]\n\u001b[0;32m    691\u001b[0m new_axes \u001b[39m=\u001b[39m \u001b[39mlist\u001b[39m(\u001b[39mself\u001b[39m\u001b[39m.\u001b[39maxes)\n\u001b[0;32m    692\u001b[0m new_axes[axis] \u001b[39m=\u001b[39m new_axis\n",
      "File \u001b[1;32mc:\\Users\\Kamil\\AppData\\Local\\Programs\\Python\\Python39\\lib\\site-packages\\pandas\\core\\internals\\blocks.py:1511\u001b[0m, in \u001b[0;36mExtensionBlock.take_nd\u001b[1;34m(self, indexer, axis, new_mgr_locs, fill_value)\u001b[0m\n\u001b[0;32m   1505\u001b[0m     fill_value \u001b[39m=\u001b[39m \u001b[39mNone\u001b[39;00m\n\u001b[0;32m   1507\u001b[0m \u001b[39m# TODO(EA2D): special case not needed with 2D EAs\u001b[39;00m\n\u001b[0;32m   1508\u001b[0m \u001b[39m# axis doesn't matter; we are really a single-dim object\u001b[39;00m\n\u001b[0;32m   1509\u001b[0m \u001b[39m# but are passed the axis depending on the calling routing\u001b[39;00m\n\u001b[0;32m   1510\u001b[0m \u001b[39m# if its REALLY axis 0, then this will be a reindex and not a take\u001b[39;00m\n\u001b[1;32m-> 1511\u001b[0m new_values \u001b[39m=\u001b[39m \u001b[39mself\u001b[39;49m\u001b[39m.\u001b[39;49mvalues\u001b[39m.\u001b[39;49mtake(indexer, fill_value\u001b[39m=\u001b[39;49mfill_value, allow_fill\u001b[39m=\u001b[39;49m\u001b[39mTrue\u001b[39;49;00m)\n\u001b[0;32m   1513\u001b[0m \u001b[39m# Called from three places in managers, all of which satisfy\u001b[39;00m\n\u001b[0;32m   1514\u001b[0m \u001b[39m#  this assertion\u001b[39;00m\n\u001b[0;32m   1515\u001b[0m \u001b[39massert\u001b[39;00m \u001b[39mnot\u001b[39;00m (\u001b[39mself\u001b[39m\u001b[39m.\u001b[39mndim \u001b[39m==\u001b[39m \u001b[39m1\u001b[39m \u001b[39mand\u001b[39;00m new_mgr_locs \u001b[39mis\u001b[39;00m \u001b[39mNone\u001b[39;00m)\n",
      "File \u001b[1;32mc:\\Users\\Kamil\\AppData\\Local\\Programs\\Python\\Python39\\lib\\site-packages\\pandas\\core\\arrays\\_mixins.py:99\u001b[0m, in \u001b[0;36mNDArrayBackedExtensionArray.take\u001b[1;34m(self, indices, allow_fill, fill_value, axis)\u001b[0m\n\u001b[0;32m     96\u001b[0m \u001b[39mif\u001b[39;00m allow_fill:\n\u001b[0;32m     97\u001b[0m     fill_value \u001b[39m=\u001b[39m \u001b[39mself\u001b[39m\u001b[39m.\u001b[39m_validate_scalar(fill_value)\n\u001b[1;32m---> 99\u001b[0m new_data \u001b[39m=\u001b[39m take(\n\u001b[0;32m    100\u001b[0m     \u001b[39mself\u001b[39;49m\u001b[39m.\u001b[39;49m_ndarray,\n\u001b[0;32m    101\u001b[0m     \u001b[39m# error: Argument 2 to \"take\" has incompatible type \"Sequence[int]\";\u001b[39;49;00m\n\u001b[0;32m    102\u001b[0m     \u001b[39m# expected \"ndarray\"\u001b[39;49;00m\n\u001b[0;32m    103\u001b[0m     indices,  \u001b[39m# type: ignore[arg-type]\u001b[39;49;00m\n\u001b[0;32m    104\u001b[0m     allow_fill\u001b[39m=\u001b[39;49mallow_fill,\n\u001b[0;32m    105\u001b[0m     fill_value\u001b[39m=\u001b[39;49mfill_value,\n\u001b[0;32m    106\u001b[0m     axis\u001b[39m=\u001b[39;49maxis,\n\u001b[0;32m    107\u001b[0m )\n\u001b[0;32m    108\u001b[0m \u001b[39mreturn\u001b[39;00m \u001b[39mself\u001b[39m\u001b[39m.\u001b[39m_from_backing_data(new_data)\n",
      "File \u001b[1;32mc:\\Users\\Kamil\\AppData\\Local\\Programs\\Python\\Python39\\lib\\site-packages\\pandas\\core\\algorithms.py:1511\u001b[0m, in \u001b[0;36mtake\u001b[1;34m(arr, indices, axis, allow_fill, fill_value)\u001b[0m\n\u001b[0;32m   1508\u001b[0m \u001b[39mif\u001b[39;00m allow_fill:\n\u001b[0;32m   1509\u001b[0m     \u001b[39m# Pandas style, -1 means NA\u001b[39;00m\n\u001b[0;32m   1510\u001b[0m     validate_indices(indices, arr\u001b[39m.\u001b[39mshape[axis])\n\u001b[1;32m-> 1511\u001b[0m     result \u001b[39m=\u001b[39m take_nd(\n\u001b[0;32m   1512\u001b[0m         arr, indices, axis\u001b[39m=\u001b[39;49maxis, allow_fill\u001b[39m=\u001b[39;49m\u001b[39mTrue\u001b[39;49;00m, fill_value\u001b[39m=\u001b[39;49mfill_value\n\u001b[0;32m   1513\u001b[0m     )\n\u001b[0;32m   1514\u001b[0m \u001b[39melse\u001b[39;00m:\n\u001b[0;32m   1515\u001b[0m     \u001b[39m# NumPy style\u001b[39;00m\n\u001b[0;32m   1516\u001b[0m     result \u001b[39m=\u001b[39m arr\u001b[39m.\u001b[39mtake(indices, axis\u001b[39m=\u001b[39maxis)\n",
      "File \u001b[1;32mc:\\Users\\Kamil\\AppData\\Local\\Programs\\Python\\Python39\\lib\\site-packages\\pandas\\core\\array_algos\\take.py:108\u001b[0m, in \u001b[0;36mtake_nd\u001b[1;34m(arr, indexer, axis, fill_value, allow_fill)\u001b[0m\n\u001b[0;32m    105\u001b[0m     \u001b[39mreturn\u001b[39;00m arr\u001b[39m.\u001b[39mtake(indexer, fill_value\u001b[39m=\u001b[39mfill_value, allow_fill\u001b[39m=\u001b[39mallow_fill)\n\u001b[0;32m    107\u001b[0m arr \u001b[39m=\u001b[39m np\u001b[39m.\u001b[39masarray(arr)\n\u001b[1;32m--> 108\u001b[0m \u001b[39mreturn\u001b[39;00m _take_nd_ndarray(arr, indexer, axis, fill_value, allow_fill)\n",
      "File \u001b[1;32mc:\\Users\\Kamil\\AppData\\Local\\Programs\\Python\\Python39\\lib\\site-packages\\pandas\\core\\array_algos\\take.py:154\u001b[0m, in \u001b[0;36m_take_nd_ndarray\u001b[1;34m(arr, indexer, axis, fill_value, allow_fill)\u001b[0m\n\u001b[0;32m    149\u001b[0m     out \u001b[39m=\u001b[39m np\u001b[39m.\u001b[39mempty(out_shape, dtype\u001b[39m=\u001b[39mdtype)\n\u001b[0;32m    151\u001b[0m func \u001b[39m=\u001b[39m _get_take_nd_function(\n\u001b[0;32m    152\u001b[0m     arr\u001b[39m.\u001b[39mndim, arr\u001b[39m.\u001b[39mdtype, out\u001b[39m.\u001b[39mdtype, axis\u001b[39m=\u001b[39maxis, mask_info\u001b[39m=\u001b[39mmask_info\n\u001b[0;32m    153\u001b[0m )\n\u001b[1;32m--> 154\u001b[0m func(arr, indexer, out, fill_value)\n\u001b[0;32m    156\u001b[0m \u001b[39mif\u001b[39;00m flip_order:\n\u001b[0;32m    157\u001b[0m     out \u001b[39m=\u001b[39m out\u001b[39m.\u001b[39mT\n",
      "\u001b[1;31mKeyboardInterrupt\u001b[0m: "
     ]
    }
   ],
   "source": [
    "(X_train, y_train), (X_test, y_test) = get_airline_dataset(\"train\"), get_airline_dataset(\"test\")\n",
    "\n",
    "print(\"\\nNaive Bayes Classifier:\")\n",
    "nbc_classifier = NBC_Categorical()\n",
    "nbc_classifier.fit(X_train, y_train)\n",
    "nbc_classifier.eval(X_test, y_test)\n",
    "\n",
    "(X_train, y_train), (X_test, y_test) = get_airline_dataset(\"train\"), get_airline_dataset(\"test\")\n",
    "\n",
    "print(\"\\nID3:\")\n",
    "id3_tree = ID3()\n",
    "id3_tree.fit(X_train, y_train)\n",
    "id3_tree.eval(X_test, y_test)"
   ]
  },
  {
   "cell_type": "code",
   "execution_count": null,
   "metadata": {},
   "outputs": [],
   "source": []
  }
 ],
 "metadata": {
  "hide_input": false,
  "kernelspec": {
   "display_name": "Python 3",
   "language": "python",
   "name": "python3"
  },
  "language_info": {
   "codemirror_mode": {
    "name": "ipython",
    "version": 3
   },
   "file_extension": ".py",
   "mimetype": "text/x-python",
   "name": "python",
   "nbconvert_exporter": "python",
   "pygments_lexer": "ipython3",
   "version": "3.9.7"
  },
  "toc": {
   "base_numbering": 1,
   "nav_menu": {},
   "number_sections": true,
   "sideBar": true,
   "skip_h1_title": false,
   "title_cell": "Table of Contents",
   "title_sidebar": "Contents",
   "toc_cell": false,
   "toc_position": {},
   "toc_section_display": true,
   "toc_window_display": false
  },
  "varInspector": {
   "cols": {
    "lenName": 16,
    "lenType": 16,
    "lenVar": 40
   },
   "kernels_config": {
    "python": {
     "delete_cmd_postfix": "",
     "delete_cmd_prefix": "del ",
     "library": "var_list.py",
     "varRefreshCmd": "print(var_dic_list())"
    },
    "r": {
     "delete_cmd_postfix": ") ",
     "delete_cmd_prefix": "rm(",
     "library": "var_list.r",
     "varRefreshCmd": "cat(var_dic_list()) "
    }
   },
   "types_to_exclude": [
    "module",
    "function",
    "builtin_function_or_method",
    "instance",
    "_Feature"
   ],
   "window_display": false
  }
 },
 "nbformat": 4,
 "nbformat_minor": 4
}
